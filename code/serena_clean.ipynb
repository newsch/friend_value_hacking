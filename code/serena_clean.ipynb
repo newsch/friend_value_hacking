{
 "cells": [
  {
   "cell_type": "markdown",
   "metadata": {},
   "source": []
  },
  {
   "cell_type": "code",
   "execution_count": 1,
   "metadata": {
    "collapsed": true
   },
   "outputs": [],
   "source": [
    "from __future__ import print_function, division\n",
    "\n",
    "%matplotlib inline\n",
    "%precision 3\n",
    "\n",
    "import warnings\n",
    "warnings.filterwarnings('ignore')\n",
    "\n",
    "import random\n",
    "import networkx as nx\n",
    "import numpy as np\n",
    "import scipy.stats as stats\n",
    "\n",
    "import thinkplot\n",
    "from thinkstats2 import Pmf, Cdf\n",
    "import thinkcomplexity"
   ]
  },
  {
   "cell_type": "code",
   "execution_count": 2,
   "metadata": {
    "collapsed": true
   },
   "outputs": [],
   "source": [
    "def generate_nodes(G):\n",
    "    \"\"\" Generates all the nodes in G \"\"\"\n",
    "    for node in G:\n",
    "        yield node\n",
    "\n",
    "def sample_nodes(G, n=1000):\n",
    "    \"\"\" Generates n random nodes \"\"\"\n",
    "    nodes = G.nodes()\n",
    "    for i in range(n):\n",
    "        node = np.random.choice(nodes)\n",
    "        yield node\n",
    "        \n",
    "def compare_node_degree(G):\n",
    "    \"\"\" \n",
    "    Plots the distribution of degrees for all the nodes \n",
    "    (from generate_nodes) and for a random sampling of \n",
    "    nodes (from sample_nodes)\n",
    "    \"\"\"\n",
    "    # enumerate all the nodes\n",
    "    node_degree = [G.degree(node) for node in generate_nodes(G)]\n",
    "    thinkplot.Cdf(Cdf(node_degree), label='generate_nodes')\n",
    "\n",
    "    # generate a random sample of nodes\n",
    "    node_degree_sample = [G.degree(node) for node in sample_nodes(G)]\n",
    "    thinkplot.Cdf(Cdf(node_degree_sample), label='sample_nodes')\n",
    "    \n",
    "    thinkplot.Config(xlabel='degree', ylabel='CDF')      "
   ]
  },
  {
   "cell_type": "code",
   "execution_count": 3,
   "metadata": {
    "collapsed": true
   },
   "outputs": [],
   "source": [
    "def generate_friends(G):\n",
    "    \"\"\"\n",
    "    Generates all friends by iterating through all nodes and\n",
    "    yielding each of their friends in succession\n",
    "    \"\"\"\n",
    "    for node in G:\n",
    "        for friend in G[node]:\n",
    "            yield friend\n",
    "            \n",
    "def sample_friends(G, n=1000):\n",
    "    \"\"\"\n",
    "    Generates n random friends by picking a random node then\n",
    "    randomly picking one of their friends\n",
    "    \"\"\"\n",
    "    nodes = G.nodes()\n",
    "    for _ in range(n):\n",
    "        node = np.random.choice(nodes)\n",
    "        friends = G.neighbors(node)\n",
    "        friend = np.random.choice(friends)\n",
    "        yield friend\n",
    "        \n",
    "def sample_edges(G, n=1000):\n",
    "    \"\"\"\n",
    "    Generates n random friends by randomly choosing an edge\n",
    "    and randomly picking a node on either side\n",
    "    \"\"\"\n",
    "    edges = G.edges()\n",
    "    for _ in range(n):\n",
    "        # NOTE: you can't use np.random.choice to choose\n",
    "        # from edges, because it treats a list of pairs\n",
    "        # as an array with two columns\n",
    "        edge = random.choice(edges)\n",
    "        yield random.choice(edge)\n",
    "        \n",
    "def compare_friend_degree(G):\n",
    "    \"\"\"\n",
    "    Plots the degrees of all nodes vs. the degrees of all friends\n",
    "    vs. the degrees of the sampling of friends by node vs. the\n",
    "    degrees of the sampling of friends by edges.\n",
    "    \"\"\"\n",
    "    \n",
    "    # enumerate the nodes\n",
    "    node_degree = [G.degree(node) for node in generate_nodes(G)]\n",
    "    thinkplot.Cdf(Cdf(node_degree), color='gray')\n",
    "    \n",
    "    # enumerate the friends\n",
    "    friend_degree = [G.degree(node) for node in generate_friends(G)]\n",
    "    thinkplot.Cdf(Cdf(friend_degree), label='generate_friends')\n",
    "\n",
    "    # sample friends\n",
    "    friend_degree_sample = [G.degree(node) for node in sample_friends(G)]\n",
    "    thinkplot.Cdf(Cdf(friend_degree_sample), color='green', label='sample_friends')\n",
    "    \n",
    "    # sample edges\n",
    "    edge_degree_sample = [G.degree(node) for node in sample_edges(G)]\n",
    "    thinkplot.Cdf(Cdf(edge_degree_sample), color='red', label='sample_edges')\n",
    "    \n",
    "    thinkplot.Config(xlabel='degree', ylabel='CDF')"
   ]
  },
  {
   "cell_type": "code",
   "execution_count": 4,
   "metadata": {
    "collapsed": false
   },
   "outputs": [],
   "source": [
    "# graphs\n",
    "\n",
    "def read_graph(filename):\n",
    "    G = nx.Graph()\n",
    "    array = np.loadtxt(filename, dtype=int)\n",
    "    G.add_edges_from(array)\n",
    "    return G\n",
    "\n",
    "ba = nx.barabasi_albert_graph(n=4000, m=20)\n",
    "ws = nx.watts_strogatz_graph(40000, 50, p=0.4)\n",
    "hk = nx.powerlaw_cluster_graph(4000, 20, 0.8)\n",
    "fb = read_graph('facebook_combined.txt.gz')\n",
    "enron = read_graph(\"email-Enron.txt.gz\")\n",
    "youtube = read_graph(\"com-youtube.ungraph.txt.gz\")"
   ]
  },
  {
   "cell_type": "code",
   "execution_count": 5,
   "metadata": {
    "collapsed": false
   },
   "outputs": [
    {
     "data": {
      "image/png": "[encoded data removed]",
      "text/plain": [
       "<matplotlib.figure.Figure at 0x7f2700091a90>"
      ]
     },
     "metadata": {},
     "output_type": "display_data"
    },
    {
     "data": {
      "image/png": "[encoded data removed]",
      "text/plain": [
       "<matplotlib.figure.Figure at 0x7f26138c8c90>"
      ]
     },
     "metadata": {},
     "output_type": "display_data"
    }
   ],
   "source": [
    "compare_node_degree(hk)\n",
    "thinkplot.Config(xscale=\"log\")\n",
    "thinkplot.Figure()\n",
    "compare_friend_degree(hk)\n",
    "thinkplot.Config(xscale=\"log\")"
   ]
  },
  {
   "cell_type": "markdown",
   "metadata": {},
   "source": [
    "Degree Associativity"
   ]
  },
  {
   "cell_type": "code",
   "execution_count": 6,
   "metadata": {
    "collapsed": true
   },
   "outputs": [],
   "source": [
    "def get_degree_pairs_edge_sample_u(G):\n",
    "    res = []\n",
    "    for u, v in G.edges_iter():\n",
    "        res.append((G.degree(u), G.degree(v)))    \n",
    "    return np.array(res).transpose()\n",
    "\n",
    "def get_degree_pairs_edge_sample_v(G):\n",
    "    res = []\n",
    "    for u, v in G.edges_iter():\n",
    "        res.append((G.degree(v), G.degree(u)))\n",
    "    return np.array(res).transpose()\n",
    "\n",
    "def get_degree_pairs_node_sample(G):\n",
    "    res = []\n",
    "    for u, deg_u in G.degree_iter():\n",
    "        for neighbor in G[u]:\n",
    "            res.append((G.degree(u), G.degree(neighbor)))\n",
    "    return np.array(res).transpose()"
   ]
  },
  {
   "cell_type": "code",
   "execution_count": 7,
   "metadata": {
    "collapsed": false
   },
   "outputs": [],
   "source": [
    "# degree associativity\n",
    "# the likelihood that a node is connected to nodes that are similar in degree,\n",
    "# from -1 (very different) to 1 (similar)\n",
    "# the facebook paper has a value for their graph at r = 0.226\n",
    "\n",
    "ba_node_sample = nx.degree_pearson_correlation_coefficient(ba)\n",
    "ba_degree_pairs_u = get_degree_pairs_edge_sample_u(ba)\n",
    "ba_degree_pairs_v = get_degree_pairs_edge_sample_v(ba)\n",
    "ba_edge_sample_u =  np.corrcoef(ba_degree_pairs_u)[0,1]\n",
    "ba_edge_sample_v =  np.corrcoef(ba_degree_pairs_v)[0,1]\n",
    "\n",
    "fb_node_sample = nx.degree_pearson_correlation_coefficient(fb)\n",
    "fb_degree_pairs_u = get_degree_pairs_edge_sample_u(fb)\n",
    "fb_degree_pairs_v = get_degree_pairs_edge_sample_v(fb)\n",
    "fb_edge_sample_u =  np.corrcoef(fb_degree_pairs_u)[0,1]\n",
    "fb_edge_sample_v =  np.corrcoef(fb_degree_pairs_v)[0,1]\n",
    "\n",
    "ws_node_sample = nx.degree_pearson_correlation_coefficient(ws)\n",
    "ws_degree_pairs_u = get_degree_pairs_edge_sample_u(ws)\n",
    "ws_degree_pairs_v = get_degree_pairs_edge_sample_v(ws)\n",
    "ws_edge_sample_u = np.corrcoef(ws_degree_pairs_u)[0,1]\n",
    "ws_edge_sample_v = np.corrcoef(ws_degree_pairs_v)[0,1]\n",
    "\n",
    "\n",
    "hk_node_sample = nx.degree_pearson_correlation_coefficient(hk)\n",
    "hk_degree_pairs_u = get_degree_pairs_edge_sample_u(hk)\n",
    "hk_degree_pairs_v = get_degree_pairs_edge_sample_v(hk)\n",
    "hk_edge_sample_u = np.corrcoef(hk_degree_pairs_u)[0,1]\n",
    "hk_edge_sample_v = np.corrcoef(hk_degree_pairs_v)[0,1]\n",
    "\n",
    "enron_node_sample = nx.degree_pearson_correlation_coefficient(enron)\n",
    "enron_degree_pairs_u = get_degree_pairs_edge_sample_u(enron)\n",
    "enron_degree_pairs_v = get_degree_pairs_edge_sample_v(enron)\n",
    "enron_edge_sample_u =  np.corrcoef(enron_degree_pairs_u)[0,1]\n",
    "enron_edge_sample_v =  np.corrcoef(enron_degree_pairs_v)[0,1]\n",
    "\n",
    "yt_node_sample = nx.degree_pearson_correlation_coefficient(youtube)\n",
    "yt_degree_pairs_u = get_degree_pairs_edge_sample_u(youtube)\n",
    "yt_degree_pairs_v = get_degree_pairs_edge_sample_v(youtube)\n",
    "yt_edge_sample_u =  np.corrcoef(yt_degree_pairs_u)[0,1]\n",
    "yt_edge_sample_v =  np.corrcoef(yt_degree_pairs_v)[0,1]"
   ]
  },
  {
   "cell_type": "code",
   "execution_count": 11,
   "metadata": {
    "collapsed": false
   },
   "outputs": [
    {
     "data": {
      "image/png": "[encoded data removed]",
      "text/plain": [
       "<matplotlib.figure.Figure at 0x7f2610ee69d0>"
      ]
     },
     "metadata": {},
     "output_type": "display_data"
    }
   ],
   "source": [
    "thinkplot.Scatter([ba_node_sample, ws_node_sample, hk_node_sample, fb_node_sample, enron_node_sample, yt_node_sample],\n",
    "              [ba_edge_sample_u, ws_edge_sample_u, hk_edge_sample_u, fb_edge_sample_u, enron_edge_sample_u, yt_edge_sample_u])\n",
    "thinkplot.Config(xlabel='node (double) measured degree correlation', ylabel='edge (single) measured degree correlation')    "
   ]
  },
  {
   "cell_type": "code",
   "execution_count": 9,
   "metadata": {
    "collapsed": false
   },
   "outputs": [
    {
     "name": "stdout",
     "output_type": "stream",
     "text": [
      "| Network              | Node sampled         | Edge sampled (u)     | Edge sampled (v)     | Ratio (edge / node)  |\n",
      "| ---                  | ---                  | ---                  | ---                  | ---                  |\n",
      "| Barabasi-Albert      |            -0.009114 |             0.344444 |             0.344444 |           -37.794123 |\n",
      "| Watts-Strogatz       |            -0.005373 |            -0.004526 |            -0.004526 |             0.842424 |\n",
      "| Holme-Kim            |            -0.058296 |             0.191960 |             0.191960 |            -3.292861 |\n",
      "| Facebook             |             0.063577 |             0.114743 |             0.114743 |             1.804775 |\n",
      "| Enron                |            -0.110764 |             0.024638 |             0.024638 |            -0.222432 |\n",
      "| Youtube              |            -0.036910 |            -0.025486 |            -0.025486 |             0.690500 |\n"
     ]
    }
   ],
   "source": [
    "#table degree assoc.\n",
    "\n",
    "print(\"| {:20s} | {:20s} | {:20s} | {:20s} | {:20s} |\"\n",
    "      .format(\"Network\", \"Node sampled\", \"Edge sampled (u)\", \"Edge sampled (v)\", \"Ratio (edge / node)\"))\n",
    "print(\"| {:20s} | {:20s} | {:20s} | {:20s} | {:20s} |\"\n",
    "      .format(\"---\", \"---\", \"---\", \"---\", \"---\"))\n",
    "print(\"| {:20s} | {:20f} | {:20f} | {:20f} | {:20f} |\"\n",
    "      .format(\"Barabasi-Albert\", ba_node_sample, ba_edge_sample_u, ba_edge_sample_v, \n",
    "              ba_edge_sample_u / ba_node_sample))\n",
    "print(\"| {:20s} | {:20f} | {:20f} | {:20f} | {:20f} |\"\n",
    "      .format(\"Watts-Strogatz\", ws_node_sample, ws_edge_sample_u, ws_edge_sample_v, \n",
    "              ws_edge_sample_u / ws_node_sample))\n",
    "print(\"| {:20s} | {:20f} | {:20f} | {:20f} | {:20f} |\"\n",
    "      .format(\"Holme-Kim\", hk_node_sample, hk_edge_sample_u, hk_edge_sample_v, \n",
    "              hk_edge_sample_u / hk_node_sample))\n",
    "print(\"| {:20s} | {:20f} | {:20f} | {:20f} | {:20f} |\"\n",
    "      .format(\"Facebook\", fb_node_sample, fb_edge_sample_u, fb_edge_sample_v, \n",
    "              fb_edge_sample_u / fb_node_sample))\n",
    "print(\"| {:20s} | {:20f} | {:20f} | {:20f} | {:20f} |\"\n",
    "      .format(\"Enron\", enron_node_sample, enron_edge_sample_u, enron_edge_sample_v, \n",
    "              enron_edge_sample_u / enron_node_sample))\n",
    "print(\"| {:20s} | {:20f} | {:20f} | {:20f} | {:20f} |\"\n",
    "      .format(\"Youtube\", yt_node_sample, yt_edge_sample_u, yt_edge_sample_v, \n",
    "              yt_edge_sample_u / yt_node_sample))"
   ]
  },
  {
   "cell_type": "code",
   "execution_count": 10,
   "metadata": {
    "collapsed": false
   },
   "outputs": [
    {
     "name": "stdout",
     "output_type": "stream",
     "text": [
      "| Network         | Number of Nodes | Number of Edges | Cluster. Coef.  | Degeneracy      |\n",
      "| ---             | ---             | ---             | ---             | ---             |\n",
      "| Barabasi-Albert |            4000 |           79600 |        0.035485 |      507.000000 |\n",
      "| Watts-Strogatz  |           40000 |         1000000 |        0.160176 |       66.000000 |\n",
      "| Holme-Kim       |            4000 |           79427 |        0.108640 |      823.000000 |\n",
      "| Facebook        |            4039 |           88234 |        0.605547 |     1045.000000 |\n",
      "| Enron           |           36692 |          183831 |        0.496983 |     1383.000000 |\n"
     ]
    },
    {
     "ename": "KeyboardInterrupt",
     "evalue": "",
     "output_type": "error",
     "traceback": [
      "\u001b[1;31m---------------------------------------------------------------------------\u001b[0m",
      "\u001b[1;31mKeyboardInterrupt\u001b[0m                         Traceback (most recent call last)",
      "\u001b[1;32m<ipython-input-10-6ccf8e719362>\u001b[0m in \u001b[0;36m<module>\u001b[1;34m()\u001b[0m\n\u001b[0;32m     18\u001b[0m       .format(\"Enron\", len(enron.nodes()), len(enron.edges()), thinkcomplexity.clustering_coefficient(enron), degeneracy(enron)))\n\u001b[0;32m     19\u001b[0m print(\"| {:15s} | {:15d} | {:15d} | {:15f} | {:15f} \"\n\u001b[1;32m---> 20\u001b[1;33m       .format(\"Youtube\", len(youtube.nodes()), len(youtube.edges()), thinkcomplexity.clustering_coefficient(youtube), degeneracy(youtube)))\n\u001b[0m",
      "\u001b[1;32m/home/poosomooso/friend_value_hacking/code/thinkcomplexity.pyc\u001b[0m in \u001b[0;36mclustering_coefficient\u001b[1;34m(G)\u001b[0m\n\u001b[0;32m    158\u001b[0m \u001b[1;33m\u001b[0m\u001b[0m\n\u001b[0;32m    159\u001b[0m \u001b[1;32mdef\u001b[0m \u001b[0mclustering_coefficient\u001b[0m\u001b[1;33m(\u001b[0m\u001b[0mG\u001b[0m\u001b[1;33m)\u001b[0m\u001b[1;33m:\u001b[0m\u001b[1;33m\u001b[0m\u001b[0m\n\u001b[1;32m--> 160\u001b[1;33m     \u001b[0mcc\u001b[0m \u001b[1;33m=\u001b[0m \u001b[0mnp\u001b[0m\u001b[1;33m.\u001b[0m\u001b[0mmean\u001b[0m\u001b[1;33m(\u001b[0m\u001b[1;33m[\u001b[0m\u001b[0mnode_clustering\u001b[0m\u001b[1;33m(\u001b[0m\u001b[0mG\u001b[0m\u001b[1;33m,\u001b[0m \u001b[0mnode\u001b[0m\u001b[1;33m)\u001b[0m \u001b[1;32mfor\u001b[0m \u001b[0mnode\u001b[0m \u001b[1;32min\u001b[0m \u001b[0mG\u001b[0m\u001b[1;33m]\u001b[0m\u001b[1;33m)\u001b[0m\u001b[1;33m\u001b[0m\u001b[0m\n\u001b[0m\u001b[0;32m    161\u001b[0m     \u001b[1;32mreturn\u001b[0m \u001b[0mcc\u001b[0m\u001b[1;33m\u001b[0m\u001b[0m\n\u001b[0;32m    162\u001b[0m \u001b[1;33m\u001b[0m\u001b[0m\n",
      "\u001b[1;32m/home/poosomooso/friend_value_hacking/code/thinkcomplexity.pyc\u001b[0m in \u001b[0;36mnode_clustering\u001b[1;34m(G, u)\u001b[0m\n\u001b[0;32m    169\u001b[0m         \u001b[1;32mreturn\u001b[0m \u001b[1;36m0\u001b[0m\u001b[1;33m\u001b[0m\u001b[0m\n\u001b[0;32m    170\u001b[0m \u001b[1;33m\u001b[0m\u001b[0m\n\u001b[1;32m--> 171\u001b[1;33m     \u001b[0medges\u001b[0m \u001b[1;33m=\u001b[0m \u001b[1;33m[\u001b[0m\u001b[0mG\u001b[0m\u001b[1;33m.\u001b[0m\u001b[0mhas_edge\u001b[0m\u001b[1;33m(\u001b[0m\u001b[0mv\u001b[0m\u001b[1;33m,\u001b[0m \u001b[0mw\u001b[0m\u001b[1;33m)\u001b[0m \u001b[1;32mfor\u001b[0m \u001b[0mv\u001b[0m\u001b[1;33m,\u001b[0m \u001b[0mw\u001b[0m \u001b[1;32min\u001b[0m \u001b[0mall_pairs\u001b[0m\u001b[1;33m(\u001b[0m\u001b[0mneighbors\u001b[0m\u001b[1;33m)\u001b[0m\u001b[1;33m]\u001b[0m\u001b[1;33m\u001b[0m\u001b[0m\n\u001b[0m\u001b[0;32m    172\u001b[0m     \u001b[1;32mreturn\u001b[0m \u001b[0msum\u001b[0m\u001b[1;33m(\u001b[0m\u001b[0medges\u001b[0m\u001b[1;33m)\u001b[0m \u001b[1;33m/\u001b[0m \u001b[0mlen\u001b[0m\u001b[1;33m(\u001b[0m\u001b[0medges\u001b[0m\u001b[1;33m)\u001b[0m\u001b[1;33m\u001b[0m\u001b[0m\n\u001b[0;32m    173\u001b[0m \u001b[1;33m\u001b[0m\u001b[0m\n",
      "\u001b[1;32m/home/poosomooso/friend_value_hacking/code/thinkcomplexity.pyc\u001b[0m in \u001b[0;36mall_pairs\u001b[1;34m(nodes)\u001b[0m\n\u001b[0;32m     21\u001b[0m         \u001b[1;32mfor\u001b[0m \u001b[0mj\u001b[0m\u001b[1;33m,\u001b[0m \u001b[0mv\u001b[0m \u001b[1;32min\u001b[0m \u001b[0menumerate\u001b[0m\u001b[1;33m(\u001b[0m\u001b[0mnodes\u001b[0m\u001b[1;33m)\u001b[0m\u001b[1;33m:\u001b[0m\u001b[1;33m\u001b[0m\u001b[0m\n\u001b[0;32m     22\u001b[0m             \u001b[1;32mif\u001b[0m \u001b[0mi\u001b[0m \u001b[1;33m<\u001b[0m \u001b[0mj\u001b[0m\u001b[1;33m:\u001b[0m\u001b[1;33m\u001b[0m\u001b[0m\n\u001b[1;32m---> 23\u001b[1;33m                 \u001b[1;32myield\u001b[0m \u001b[0mu\u001b[0m\u001b[1;33m,\u001b[0m \u001b[0mv\u001b[0m\u001b[1;33m\u001b[0m\u001b[0m\n\u001b[0m\u001b[0;32m     24\u001b[0m \u001b[1;33m\u001b[0m\u001b[0m\n\u001b[0;32m     25\u001b[0m \u001b[1;33m\u001b[0m\u001b[0m\n",
      "\u001b[1;31mKeyboardInterrupt\u001b[0m: "
     ]
    }
   ],
   "source": [
    "def degeneracy(G):\n",
    "    max_degree = max([len(G[node]) for node in generate_nodes(G)])\n",
    "    return max_degree\n",
    "\n",
    "print(\"| {:15s} | {:15s} | {:15s} | {:15s} | {:15s} |\"\n",
    "      .format(\"Network\", \"Number of Nodes\", \"Number of Edges\", \"Cluster. Coef.\", \"Degeneracy\"))\n",
    "print(\"| {:15s} | {:15s} | {:15s} | {:15s} | {:15s} |\"\n",
    "      .format(\"---\", \"---\", \"---\", \"---\", \"---\"))\n",
    "print(\"| {:15s} | {:15d} | {:15d} | {:15f} | {:15f} |\"\n",
    "      .format(\"Barabasi-Albert\", len(ba.nodes()), len(ba.edges()), thinkcomplexity.clustering_coefficient(ba), degeneracy(ba)))\n",
    "print(\"| {:15s} | {:15d} | {:15d} | {:15f} | {:15f} |\"\n",
    "      .format(\"Watts-Strogatz\", len(ws.nodes()), len(ws.edges()), thinkcomplexity.clustering_coefficient(ws), degeneracy(ws)))\n",
    "print(\"| {:15s} | {:15d} | {:15d} | {:15f} | {:15f} |\"\n",
    "      .format(\"Holme-Kim\", len(hk.nodes()), len(hk.edges()), thinkcomplexity.clustering_coefficient(hk), degeneracy(hk)))\n",
    "print(\"| {:15s} | {:15d} | {:15d} | {:15f} | {:15f} |\"\n",
    "      .format(\"Facebook\", len(fb.nodes()), len(fb.edges()), thinkcomplexity.clustering_coefficient(fb), degeneracy(fb)))\n",
    "print(\"| {:15s} | {:15d} | {:15d} | {:15f} | {:15f} |\"\n",
    "      .format(\"Enron\", len(enron.nodes()), len(enron.edges()), thinkcomplexity.clustering_coefficient(enron), degeneracy(enron)))\n",
    "print(\"| {:15s} | {:15d} | {:15d} | {:15f} | {:15f} \"\n",
    "      .format(\"Youtube\", len(youtube.nodes()), len(youtube.edges()), thinkcomplexity.clustering_coefficient(youtube), degeneracy(youtube)))"
   ]
  },
  {
   "cell_type": "code",
   "execution_count": null,
   "metadata": {
    "collapsed": true
   },
   "outputs": [],
   "source": []
  }
 ],
 "metadata": {
  "kernelspec": {
   "display_name": "Python 2",
   "language": "python",
   "name": "python2"
  },
  "language_info": {
   "codemirror_mode": {
    "name": "ipython",
    "version": 2
   },
   "file_extension": ".py",
   "mimetype": "text/x-python",
   "name": "python",
   "nbconvert_exporter": "python",
   "pygments_lexer": "ipython2",
   "version": "2.7.6"
  }
 },
 "nbformat": 4,
 "nbformat_minor": 0
}
