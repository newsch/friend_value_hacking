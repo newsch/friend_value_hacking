{
 "cells": [
  {
   "cell_type": "markdown",
   "metadata": {},
   "source": [
    "# The Friendship Paradox\n",
    "\n",
    "Code examples from [Think Complexity, 2nd edition](http://greenteapress.com/wp/complexity2)\n",
    "\n",
    "Copyright 2016 Allen Downey, [MIT License](http://opensource.org/licenses/MIT)"
   ]
  },
  {
   "cell_type": "code",
   "execution_count": 4,
   "metadata": {
    "collapsed": false
   },
   "outputs": [],
   "source": [
    "from __future__ import print_function, division\n",
    "\n",
    "%matplotlib inline\n",
    "%precision 3\n",
    "\n",
    "import warnings\n",
    "warnings.filterwarnings('ignore')\n",
    "\n",
    "import random\n",
    "import networkx as nx\n",
    "import numpy as np\n",
    "\n",
    "import thinkplot\n",
    "from thinkstats2 import Pmf, Cdf\n",
    "import thinkcomplexity"
   ]
  },
  {
   "cell_type": "markdown",
   "metadata": {},
   "source": [
    "## BA graphs\n",
    "\n",
    "In \"[Why Your Friends Have More Friends than You Do](https://github.com/AllenDowney/ThinkComplexity2/blob/master/papers/feld1991why.pdf)\", Scott L. Feld explains the \"friendship paradox\": if you choose one of your friends at random, the chances are high that your friend has more friends than you.\n",
    "\n",
    "In this notebook, we'll explore this effect in a random Barabasi-Albert graph and in a small dataset from Facebook.\n",
    "\n",
    "First, I'll generate a BA graph:"
   ]
  },
  {
   "cell_type": "code",
   "execution_count": 5,
   "metadata": {
    "collapsed": true
   },
   "outputs": [],
   "source": [
    "ba = nx.barabasi_albert_graph(n=4000, m=20)"
   ]
  },
  {
   "cell_type": "markdown",
   "metadata": {},
   "source": [
    "The following generator iterates through the nodes of a graph.  We could also use `G.node_iter`, but I am setting up the framework we'll use later in the notebook."
   ]
  },
  {
   "cell_type": "code",
   "execution_count": null,
   "metadata": {
    "collapsed": true
   },
   "outputs": [],
   "source": [
    "def generate_nodes(G):\n",
    "    for node in G:\n",
    "        yield node"
   ]
  },
  {
   "cell_type": "markdown",
   "metadata": {},
   "source": [
    "This function generates a sample of nodes."
   ]
  },
  {
   "cell_type": "code",
   "execution_count": null,
   "metadata": {
    "collapsed": true
   },
   "outputs": [],
   "source": [
    "def sample_nodes(G, n=1000):\n",
    "    nodes = G.nodes()\n",
    "    for i in range(n):\n",
    "        node = np.random.choice(nodes)\n",
    "        yield node"
   ]
  },
  {
   "cell_type": "markdown",
   "metadata": {},
   "source": [
    "Now let's confirm that `sample_nodes` generates the right degree distribution."
   ]
  },
  {
   "cell_type": "code",
   "execution_count": null,
   "metadata": {
    "collapsed": true
   },
   "outputs": [],
   "source": [
    "def compare_node_degree(G):\n",
    "    # enumerate all the nodes\n",
    "    node_degree = [G.degree(node) for node in generate_nodes(G)]\n",
    "    thinkplot.Cdf(Cdf(node_degree), label='generate_nodes')\n",
    "\n",
    "    # generate a random sample of nodes\n",
    "    node_degree_sample = [G.degree(node) for node in sample_nodes(G)]\n",
    "    thinkplot.Cdf(Cdf(node_degree_sample), label='sample_nodes')\n",
    "    \n",
    "    thinkplot.Config(xlabel='degree', ylabel='CDF')"
   ]
  },
  {
   "cell_type": "markdown",
   "metadata": {},
   "source": [
    "It does."
   ]
  },
  {
   "cell_type": "code",
   "execution_count": null,
   "metadata": {
    "collapsed": false
   },
   "outputs": [],
   "source": [
    "compare_node_degree(ba)"
   ]
  },
  {
   "cell_type": "markdown",
   "metadata": {},
   "source": [
    "## Sampling friends\n",
    "\n",
    "Now let's generate all the \"friends\" by iterating through the nodes and their friends:"
   ]
  },
  {
   "cell_type": "code",
   "execution_count": null,
   "metadata": {
    "collapsed": true
   },
   "outputs": [],
   "source": [
    "def generate_friends(G):\n",
    "    for node in G:\n",
    "        for friend in G[node]:\n",
    "            yield friend"
   ]
  },
  {
   "cell_type": "markdown",
   "metadata": {},
   "source": [
    "And let's sample friends by choosing a random node and then a random friend."
   ]
  },
  {
   "cell_type": "code",
   "execution_count": null,
   "metadata": {
    "collapsed": false
   },
   "outputs": [],
   "source": [
    "def sample_friends(G, n=1000):\n",
    "    nodes = G.nodes()\n",
    "    for _ in range(n):\n",
    "        node = np.random.choice(nodes)\n",
    "        friends = G.neighbors(node)\n",
    "        friend = np.random.choice(friends)\n",
    "        yield friend"
   ]
  },
  {
   "cell_type": "markdown",
   "metadata": {},
   "source": [
    "In Feld's article, he does something a little different: he chooses a random edge and then chooses one of the endpoints:"
   ]
  },
  {
   "cell_type": "code",
   "execution_count": null,
   "metadata": {
    "collapsed": true
   },
   "outputs": [],
   "source": [
    "def sample_edges(G, n=1000):\n",
    "    edges = G.edges()\n",
    "    for _ in range(n):\n",
    "        # NOTE: you can't use np.random.choice to choose\n",
    "        # from edges, because it treats a list of pairs\n",
    "        # as an array with two columns\n",
    "        edge = random.choice(edges)\n",
    "        yield random.choice(edge)"
   ]
  },
  {
   "cell_type": "markdown",
   "metadata": {},
   "source": [
    "Let's see if all of these generators produce the same distribution:"
   ]
  },
  {
   "cell_type": "code",
   "execution_count": null,
   "metadata": {
    "collapsed": true
   },
   "outputs": [],
   "source": [
    "def compare_friend_degree(G):\n",
    "    \n",
    "    # enumerate the nodes\n",
    "    node_degree = [G.degree(node) for node in generate_nodes(G)]\n",
    "    thinkplot.Cdf(Cdf(node_degree), color='gray')\n",
    "    \n",
    "    # enumerate the friends\n",
    "    friend_degree = [G.degree(node) for node in generate_friends(G)]\n",
    "    thinkplot.Cdf(Cdf(friend_degree), label='generate_friends')\n",
    "\n",
    "    # sample friends\n",
    "    friend_degree_sample = [G.degree(node) for node in sample_friends(G)]\n",
    "    thinkplot.Cdf(Cdf(friend_degree_sample), color='green', label='sample_friends')\n",
    "    \n",
    "    # sample edges\n",
    "    edge_degree_sample = [G.degree(node) for node in sample_edges(G)]\n",
    "    thinkplot.Cdf(Cdf(edge_degree_sample), color='red', label='sample_edges')\n",
    "    \n",
    "    thinkplot.Config(xlabel='degree', ylabel='CDF')"
   ]
  },
  {
   "cell_type": "markdown",
   "metadata": {},
   "source": [
    "It looks like they do, at least approximately.\n",
    "\n",
    "And, as expected, the distribution we get when we sample friends (either way) is different from what we get when we sample nodes."
   ]
  },
  {
   "cell_type": "code",
   "execution_count": null,
   "metadata": {
    "collapsed": false
   },
   "outputs": [],
   "source": [
    "compare_friend_degree(ba)"
   ]
  },
  {
   "cell_type": "markdown",
   "metadata": {},
   "source": [
    "## Facebook data\n",
    "\n",
    "Now let's run the same analysis on the Facebook dataset."
   ]
  },
  {
   "cell_type": "code",
   "execution_count": null,
   "metadata": {
    "collapsed": true
   },
   "outputs": [],
   "source": [
    "def read_graph(filename):\n",
    "    G = nx.Graph()\n",
    "    array = np.loadtxt(filename, dtype=int)\n",
    "    G.add_edges_from(array)\n",
    "    return G"
   ]
  },
  {
   "cell_type": "code",
   "execution_count": null,
   "metadata": {
    "collapsed": false
   },
   "outputs": [],
   "source": [
    "# https://snap.stanford.edu/data/facebook_combined.txt.gz\n",
    "\n",
    "fb = read_graph('facebook_combined.txt.gz')\n",
    "n = len(fb)\n",
    "m = len(fb.edges())\n",
    "n, m, m/n"
   ]
  },
  {
   "cell_type": "markdown",
   "metadata": {},
   "source": [
    "Once again, the degree distribution is the same whether we enumerate all nodes or sample them."
   ]
  },
  {
   "cell_type": "code",
   "execution_count": null,
   "metadata": {
    "collapsed": false
   },
   "outputs": [],
   "source": [
    "compare_node_degree(fb)"
   ]
  },
  {
   "cell_type": "markdown",
   "metadata": {},
   "source": [
    "But now we get something I didn't expect.  We get two different degree distributions for \"friends\":\n",
    "\n",
    "1) If we sample edges, as Feld did, or if we enumerate all friends, we get one distribution.\n",
    "\n",
    "2) If we sample by choosing a node and then a friend, we get another distribution.\n"
   ]
  },
  {
   "cell_type": "code",
   "execution_count": null,
   "metadata": {
    "collapsed": false
   },
   "outputs": [],
   "source": [
    "compare_friend_degree(fb)"
   ]
  },
  {
   "cell_type": "markdown",
   "metadata": {},
   "source": [
    "## Analysis\n",
    "\n",
    "We can compute the distribution of degree by modeling the edge sampling process."
   ]
  },
  {
   "cell_type": "code",
   "execution_count": null,
   "metadata": {
    "collapsed": true
   },
   "outputs": [],
   "source": [
    "def edge_degree_cdf(G):\n",
    "    pmf = Pmf()\n",
    "    for u, v in G.edges():\n",
    "        pmf[G.degree(u)] += 1\n",
    "        pmf[G.degree(v)] += 1\n",
    "    pmf.Normalize()\n",
    "    return pmf.MakeCdf()"
   ]
  },
  {
   "cell_type": "markdown",
   "metadata": {},
   "source": [
    "And confirm that the sample matches the computed distribution."
   ]
  },
  {
   "cell_type": "code",
   "execution_count": null,
   "metadata": {
    "collapsed": false
   },
   "outputs": [],
   "source": [
    "cdf = edge_degree_cdf(fb)\n",
    "thinkplot.Cdf(cdf, label='edge_degree_cdf')\n",
    "\n",
    "friend_degree = [fb.degree(node) for node in generate_friends(fb)]\n",
    "thinkplot.Cdf(Cdf(friend_degree), label='generate_friends')\n",
    "\n",
    "thinkplot.Config(xlabel='degree', ylabel='CDF')"
   ]
  },
  {
   "cell_type": "markdown",
   "metadata": {},
   "source": [
    "We can also think of this distribution as a biased view of the degree distribution, where each node is overrepresented proportional to its degree."
   ]
  },
  {
   "cell_type": "code",
   "execution_count": null,
   "metadata": {
    "collapsed": true
   },
   "outputs": [],
   "source": [
    "def edge_degree_cdf2(G):\n",
    "    degrees = [G.degree(node) for node in G]\n",
    "    pmf = Pmf(degrees)\n",
    "    for x, p in pmf.Items():\n",
    "        pmf[x] *= x\n",
    "    pmf.Normalize()\n",
    "    return pmf.MakeCdf()"
   ]
  },
  {
   "cell_type": "markdown",
   "metadata": {},
   "source": [
    "And again, that agrees with the sample."
   ]
  },
  {
   "cell_type": "code",
   "execution_count": null,
   "metadata": {
    "collapsed": false
   },
   "outputs": [],
   "source": [
    "cdf = edge_degree_cdf2(fb)\n",
    "thinkplot.Cdf(cdf, label='edge_degree_cdf')\n",
    "\n",
    "friend_degree = [fb.degree(node) for node in generate_friends(fb)]\n",
    "thinkplot.Cdf(Cdf(friend_degree), label='generate_friends')\n",
    "\n",
    "thinkplot.Config(xlabel='degree', ylabel='CDF')"
   ]
  },
  {
   "cell_type": "markdown",
   "metadata": {},
   "source": [
    "We can also compute the distribution that results from the friend sampling process."
   ]
  },
  {
   "cell_type": "code",
   "execution_count": null,
   "metadata": {
    "collapsed": true
   },
   "outputs": [],
   "source": [
    "def friend_degree_cdf(G):\n",
    "    n = len(G)\n",
    "    pmf = Pmf()\n",
    "    for node in G:\n",
    "        friends = G[node]\n",
    "        f = len(friends)\n",
    "        for friend in friends:\n",
    "            degree = G.degree(friend)\n",
    "            pmf[degree] += 1 / n / f\n",
    "    pmf.Normalize()\n",
    "    return pmf.MakeCdf()"
   ]
  },
  {
   "cell_type": "markdown",
   "metadata": {},
   "source": [
    "And confirm that it agrees with the friend sample."
   ]
  },
  {
   "cell_type": "code",
   "execution_count": null,
   "metadata": {
    "collapsed": false
   },
   "outputs": [],
   "source": [
    "cdf = friend_degree_cdf(fb)\n",
    "thinkplot.Cdf(cdf, label='friend_degree_cdf')\n",
    "\n",
    "friend_degree_sample = [fb.degree(node) for node in sample_friends(fb)]\n",
    "thinkplot.Cdf(Cdf(friend_degree_sample), label='sample')\n",
    "\n",
    "thinkplot.Config(xlabel='degree', ylabel='CDF')"
   ]
  },
  {
   "cell_type": "markdown",
   "metadata": {},
   "source": [
    "So it looks like we have two interpretations of the friendship paradox, which are operationalized by two different sampling processes.\n",
    "\n",
    "Also, the sampling processes yield the same degree distribution for some graphs, like the BA model, but not for others, like the Facebook dataset.\n",
    "\n",
    "Questions this raises:\n",
    "\n",
    "1. Which process better quantifies the friendship paradox?  Are there other metrics we should compute, other than degree distributions?\n",
    "\n",
    "2. Why are the results different for these two graphs?\n",
    "\n",
    "3. How do the results differ for other graphs?\n",
    "\n",
    "4. Are there metrics we can compute directly based on graph properties, rather than by sampling?"
   ]
  },
  {
   "cell_type": "code",
   "execution_count": null,
   "metadata": {
    "collapsed": true
   },
   "outputs": [],
   "source": []
  },
  {
   "cell_type": "markdown",
   "metadata": {},
   "source": []
  },
  {
   "cell_type": "code",
   "execution_count": null,
   "metadata": {
    "collapsed": true
   },
   "outputs": [],
   "source": []
  },
  {
   "cell_type": "markdown",
   "metadata": {},
   "source": []
  },
  {
   "cell_type": "code",
   "execution_count": null,
   "metadata": {
    "collapsed": true
   },
   "outputs": [],
   "source": []
  },
  {
   "cell_type": "markdown",
   "metadata": {},
   "source": []
  },
  {
   "cell_type": "code",
   "execution_count": null,
   "metadata": {
    "collapsed": true
   },
   "outputs": [],
   "source": []
  },
  {
   "cell_type": "markdown",
   "metadata": {},
   "source": []
  },
  {
   "cell_type": "code",
   "execution_count": null,
   "metadata": {
    "collapsed": true
   },
   "outputs": [],
   "source": []
  },
  {
   "cell_type": "markdown",
   "metadata": {},
   "source": []
  },
  {
   "cell_type": "code",
   "execution_count": null,
   "metadata": {
    "collapsed": true
   },
   "outputs": [],
   "source": [
    "\n",
    "\n"
   ]
  },
  {
   "cell_type": "markdown",
   "metadata": {},
   "source": [
    "## Degree correlation\n",
    "\n",
    "One property that might vary from graph to graph, and affect our results, is the correlation between the degrees of adjacent nodes.\n",
    "\n",
    "Here's how we can compute it:\n"
   ]
  },
  {
   "cell_type": "code",
   "execution_count": null,
   "metadata": {
    "collapsed": true
   },
   "outputs": [],
   "source": [
    "def get_degree_pairs(G):\n",
    "    res = []\n",
    "    for u, v in G.edges_iter():\n",
    "        res.append((G.degree(u), G.degree(v)))\n",
    "    return np.array(res).transpose()"
   ]
  },
  {
   "cell_type": "markdown",
   "metadata": {},
   "source": [
    "The BA graph has relatively high correlation."
   ]
  },
  {
   "cell_type": "code",
   "execution_count": null,
   "metadata": {
    "collapsed": false
   },
   "outputs": [],
   "source": [
    "degree_pairs = get_degree_pairs(ba)\n",
    "np.corrcoef(degree_pairs)"
   ]
  },
  {
   "cell_type": "markdown",
   "metadata": {},
   "source": [
    "The Facebook network has lower correlation."
   ]
  },
  {
   "cell_type": "code",
   "execution_count": null,
   "metadata": {
    "collapsed": false
   },
   "outputs": [],
   "source": [
    "degree_pairs = get_degree_pairs(fb)\n",
    "np.corrcoef(degree_pairs)"
   ]
  },
  {
   "cell_type": "markdown",
   "metadata": {},
   "source": []
  },
  {
   "cell_type": "code",
   "execution_count": null,
   "metadata": {
    "collapsed": true
   },
   "outputs": [],
   "source": []
  },
  {
   "cell_type": "markdown",
   "metadata": {},
   "source": [
    "## Friends of friends\n",
    "\n",
    "Another exploration that might be interesting: how does all of this affect the distribution for friends of friends?"
   ]
  },
  {
   "cell_type": "code",
   "execution_count": null,
   "metadata": {
    "collapsed": true
   },
   "outputs": [],
   "source": [
    "def sample_fof_degree(G):\n",
    "    nodes = G.nodes()\n",
    "    node = np.random.choice(nodes)\n",
    "    friends = G.neighbors(node)\n",
    "    friend = np.random.choice(friends)\n",
    "    fofs = G.neighbors(friend)\n",
    "    fof = np.random.choice(fofs)\n",
    "    return G.degree(fof)"
   ]
  },
  {
   "cell_type": "markdown",
   "metadata": {},
   "source": []
  },
  {
   "cell_type": "code",
   "execution_count": null,
   "metadata": {
    "collapsed": false
   },
   "outputs": [],
   "source": [
    "sample_fof_degree(fb)"
   ]
  },
  {
   "cell_type": "markdown",
   "metadata": {},
   "source": []
  },
  {
   "cell_type": "code",
   "execution_count": null,
   "metadata": {
    "collapsed": true
   },
   "outputs": [],
   "source": [
    "fof_sample = [sample_fof_degree(fb) for _ in range(10000)]\n",
    "fof_cdf = Cdf(fof_sample)"
   ]
  },
  {
   "cell_type": "markdown",
   "metadata": {},
   "source": []
  },
  {
   "cell_type": "code",
   "execution_count": null,
   "metadata": {
    "collapsed": false
   },
   "outputs": [],
   "source": [
    "node_degree = [fb.degree(node) for node in generate_nodes(fb)]\n",
    "thinkplot.Cdf(Cdf(node_degree), color='gray')\n",
    "\n",
    "thinkplot.Cdf(fof_cdf, label='fofs')\n",
    "thinkplot.Config(xlabel='degree', ylabel='CDF')"
   ]
  },
  {
   "cell_type": "markdown",
   "metadata": {},
   "source": []
  },
  {
   "cell_type": "code",
   "execution_count": null,
   "metadata": {
    "collapsed": true
   },
   "outputs": [],
   "source": []
  },
  {
   "cell_type": "markdown",
   "metadata": {},
   "source": []
  },
  {
   "cell_type": "code",
   "execution_count": null,
   "metadata": {
    "collapsed": true
   },
   "outputs": [],
   "source": []
  },
  {
   "cell_type": "code",
   "execution_count": null,
   "metadata": {
    "collapsed": true
   },
   "outputs": [],
   "source": [
    "ws = nx.watts_strogatz_graph(40000, 50, p=0.4)"
   ]
  },
  {
   "cell_type": "code",
   "execution_count": null,
   "metadata": {
    "collapsed": false
   },
   "outputs": [],
   "source": [
    "compare_node_degree(ws)"
   ]
  },
  {
   "cell_type": "code",
   "execution_count": null,
   "metadata": {
    "collapsed": false
   },
   "outputs": [],
   "source": [
    "compare_friend_degree(ws)"
   ]
  },
  {
   "cell_type": "code",
   "execution_count": null,
   "metadata": {
    "collapsed": true
   },
   "outputs": [],
   "source": [
    "# enron\n",
    "enron = read_graph(\"email-Enron.txt.gz\")"
   ]
  },
  {
   "cell_type": "code",
   "execution_count": null,
   "metadata": {
    "collapsed": false
   },
   "outputs": [],
   "source": [
    "# # https://snap.stanford.edu/data/com-Youtube.html\n",
    "youtube = read_graph(\"com-youtube.ungraph.txt.gz\")"
   ]
  },
  {
   "cell_type": "markdown",
   "metadata": {
    "collapsed": true
   },
   "source": [
    "# Working through different graph properties"
   ]
  },
  {
   "cell_type": "code",
   "execution_count": null,
   "metadata": {
    "collapsed": false
   },
   "outputs": [],
   "source": [
    "# path legnth\n",
    "\n",
    "ba_pathlengths = thinkcomplexity.path_lengths(ba)\n",
    "fb_pathlengths = thinkcomplexity.path_lengths(fb)\n",
    "ws_pathlengths = thinkcomplexity.path_lengths(ws)\n",
    "en_pathlengths = thinkcomplexity.path_lengths(enron)\n",
    "# yt_pathlengths = thinkcomplexity.path_lengths(youtube)\n"
   ]
  },
  {
   "cell_type": "code",
   "execution_count": null,
   "metadata": {
    "collapsed": false
   },
   "outputs": [],
   "source": [
    "thinkplot.Pmf(Pmf(ba_pathlengths), color='red', label='ba')\n",
    "thinkplot.Pmf(Pmf(fb_pathlengths), color='blue', label='fb')\n",
    "thinkplot.Pmf(Pmf(ws_pathlengths), color='green', label='ws')\n",
    "thinkplot.Pmf(Pmf(en_pathlengths), color='yellow', label='en')\n",
    "# thinkplot.Pmf(Pmf(yt_pathlengths), color='orange', label='yt')\n",
    "\n",
    "thinkplot.Config(xlabel='path length', ylabel='number of nodes')"
   ]
  },
  {
   "cell_type": "code",
   "execution_count": null,
   "metadata": {
    "collapsed": false
   },
   "outputs": [],
   "source": [
    "# clustering coefficient\n",
    "\n",
    "print(thinkcomplexity.clustering_coefficient(ba))\n",
    "print(thinkcomplexity.clustering_coefficient(fb))\n",
    "print(thinkcomplexity.clustering_coefficient(ws))\n",
    "print(thinkcomplexity.clustering_coefficient(enron))\n",
    "# print(thinkcomplexity.clustering_coefficient(youtube))"
   ]
  },
  {
   "cell_type": "code",
   "execution_count": null,
   "metadata": {
    "collapsed": false
   },
   "outputs": [],
   "source": [
    "# degeneracy\n",
    "# max degree of any vertex in the graph, a measure of sparseness\n",
    "\n",
    "def degeneracy(G):\n",
    "    max_degree = max([len(G[node]) for node in generate_nodes(G)])\n",
    "    return max_degree"
   ]
  },
  {
   "cell_type": "code",
   "execution_count": null,
   "metadata": {
    "collapsed": false
   },
   "outputs": [],
   "source": [
    "print(degeneracy(ba))\n",
    "print(degeneracy(fb))\n",
    "print(degeneracy(ws))\n",
    "print(degeneracy(enron))\n",
    "print(degeneracy(youtube))"
   ]
  },
  {
   "cell_type": "code",
   "execution_count": null,
   "metadata": {
    "collapsed": false,
    "scrolled": true
   },
   "outputs": [],
   "source": [
    "# degree associativity\n",
    "# the likelihood that a node is connected to nodes that are similar in degree,\n",
    "# from -1 (very different) to 1 (similar)\n",
    "# the facebook paper has a value for their graph at r = 0.226\n",
    "\n",
    "print(nx.degree_pearson_correlation_coefficient(ba))\n",
    "ba_degree_pairs = get_degree_pairs(ba)\n",
    "print(np.corrcoef(ba_degree_pairs))\n",
    "print(nx.degree_pearson_correlation_coefficient(fb))\n",
    "fb_degree_pairs = get_degree_pairs(fb)\n",
    "print(np.corrcoef(fb_degree_pairs))\n",
    "print(nx.degree_pearson_correlation_coefficient(ws))\n",
    "ws_degree_pairs = get_degree_pairs(ws)\n",
    "print(np.corrcoef(ws_degree_pairs))\n",
    "print(nx.degree_pearson_correlation_coefficient(enron))\n",
    "enron_degree_pairs = get_degree_pairs(enron)\n",
    "print(np.corrcoef(enron_degree_pairs))\n",
    "print(nx.degree_pearson_correlation_coefficient(youtube))\n",
    "yt_degree_pairs = get_degree_pairs(youtube)\n",
    "print(np.corrcoef(yt_degree_pairs))"
   ]
  },
  {
   "cell_type": "code",
   "execution_count": 6,
   "metadata": {
    "collapsed": false
   },
   "outputs": [
    {
     "name": "stdout",
     "output_type": "stream",
     "text": [
      "start 2017-10-09 00:41:25.334525\n",
      "made map 2017-10-09 00:41:25.561768\n",
      "start basecase 2017-10-09 00:41:25.672959\n",
      "finish basecase 2017-10-09 00:41:25.772043\n",
      "finish computation 2017-10-09 02:58:26.367590\n",
      "CPU times: user 2h 16min 56s, sys: 1.19 s, total: 2h 16min 57s\n",
      "Wall time: 2h 17min 3s\n",
      "CPU times: user 1min 17s, sys: 880 ms, total: 1min 18s\n",
      "Wall time: 1min 18s\n"
     ]
    },
    {
     "data": {
      "image/png": "[encoded data removed]",
      "text/plain": [
       "<matplotlib.figure.Figure at 0x7f5c9a8dda10>"
      ]
     },
     "metadata": {},
     "output_type": "display_data"
    }
   ],
   "source": [
    "%time thinkplot.Pmf(Pmf(thinkcomplexity.path_lengths_WFI(ba)), color='red', label='wfi')\n",
    "%time thinkplot.Pmf(Pmf(thinkcomplexity.path_lengths(ba)), color='blue', label='actual')"
   ]
  },
  {
   "cell_type": "code",
   "execution_count": null,
   "metadata": {
    "collapsed": false
   },
   "outputs": [],
   "source": [
    "#table\n",
    "\n",
    "print(\"| {:15s} | {:15s} | {:15s} | {:15s} | {:15s} | {:15s} |\"\n",
    "      .format(\"Network\", \"Number of Nodes\", \"Number of Edges\", \"Cluster. Coef.\", \"Degeneracy\", \"Degree Assoc.\"))\n",
    "print(\"| {:15s} | {:15d} | {:15d} | {:15f} | {:15f} | {:15f} |\"\n",
    "      .format(\"Barabasi-Albert\", len(ba.nodes()), len(ba.edges()), thinkcomplexity.clustering_coefficient(ba), degeneracy(ba), np.corrcoef(ba_degree_pairs)[0,1]))\n",
    "print(\"| {:15s} | {:15d} | {:15d} | {:15f} | {:15f} | {:15f} |\"\n",
    "      .format(\"Facebook\", len(fb.nodes()), len(fb.edges()), thinkcomplexity.clustering_coefficient(fb), degeneracy(fb), np.corrcoef(fb_degree_pairs)[0,1]))\n",
    "print(\"| {:15s} | {:15d} | {:15d} | {:15f} | {:15f} | {:15f} |\"\n",
    "      .format(\"Enron\", len(enron.nodes()), len(enron.edges()), thinkcomplexity.clustering_coefficient(enron), degeneracy(enron), np.corrcoef(enron_degree_pairs)[0,1]))\n",
    "print(\"| {:15s} | {:15d} | {:15d} | {:15f} | {:15f} | {:15f} |\"\n",
    "      .format(\"Youtube\", len(youtube.nodes()), len(youtube.edges()), thinkcomplexity.clustering_coefficient(youtube), degeneracy(youtube), np.corrcoef(yt_degree_pairs)[0,1]))"
   ]
  },
  {
   "cell_type": "markdown",
   "metadata": {
    "collapsed": true
   },
   "source": [
    "## Trying multiple watts strogatz"
   ]
  },
  {
   "cell_type": "code",
   "execution_count": null,
   "metadata": {
    "collapsed": true
   },
   "outputs": [],
   "source": [
    "# multiple random ws graphs with the same starting conditions\n",
    "ws1 = nx.watts_strogatz_graph(4000, 20, p=0.3)\n",
    "ws2 = nx.watts_strogatz_graph(4000, 20, p=0.3)\n",
    "ws3 = nx.watts_strogatz_graph(4000, 20, p=0.4)\n",
    "ws4 = nx.watts_strogatz_graph(4000, 20, p=0.4)"
   ]
  },
  {
   "cell_type": "code",
   "execution_count": null,
   "metadata": {
    "collapsed": false
   },
   "outputs": [],
   "source": [
    "compare_node_degree(ws1)\n",
    "thinkplot.Figure()\n",
    "compare_friend_degree(ws1)"
   ]
  },
  {
   "cell_type": "code",
   "execution_count": null,
   "metadata": {
    "collapsed": false
   },
   "outputs": [],
   "source": [
    "compare_node_degree(ws2)\n",
    "thinkplot.Figure()\n",
    "compare_friend_degree(ws2)"
   ]
  },
  {
   "cell_type": "code",
   "execution_count": null,
   "metadata": {
    "collapsed": false
   },
   "outputs": [],
   "source": [
    "compare_node_degree(ws3)\n",
    "thinkplot.Figure()\n",
    "compare_friend_degree(ws3)"
   ]
  },
  {
   "cell_type": "code",
   "execution_count": null,
   "metadata": {
    "collapsed": false
   },
   "outputs": [],
   "source": [
    "compare_node_degree(ws4)\n",
    "thinkplot.Figure()\n",
    "compare_friend_degree(ws4)"
   ]
  },
  {
   "cell_type": "code",
   "execution_count": null,
   "metadata": {
    "collapsed": false
   },
   "outputs": [],
   "source": [
    "print(\"path lengths\")\n",
    "ws1_path_length = thinkcomplexity.path_lengths(ws1)\n",
    "ws2_path_length = thinkcomplexity.path_lengths(ws2)\n",
    "ws3_path_length = thinkcomplexity.path_lengths(ws3)\n",
    "ws4_path_length = thinkcomplexity.path_lengths(ws4)\n",
    "thinkplot.Pmf(Pmf(ws1_path_length), color='red', label='ws1')\n",
    "thinkplot.Pmf(Pmf(ws2_path_length), color='blue', label='ws2')\n",
    "thinkplot.Pmf(Pmf(ws3_path_length), color='green', label='ws3')\n",
    "thinkplot.Pmf(Pmf(ws4_path_length), color='orange', label='ws4')\n",
    "\n",
    "thinkplot.Config(xlabel='path length', ylabel='number of nodes')"
   ]
  },
  {
   "cell_type": "code",
   "execution_count": null,
   "metadata": {
    "collapsed": false
   },
   "outputs": [],
   "source": [
    "print(\"clustering coefficient\")\n",
    "print(thinkcomplexity.clustering_coefficient(ws1))\n",
    "print(thinkcomplexity.clustering_coefficient(ws2))\n",
    "print(thinkcomplexity.clustering_coefficient(ws3))\n",
    "print(thinkcomplexity.clustering_coefficient(ws4))\n",
    "\n",
    "print(\"degeneracy\")\n",
    "print(degeneracy(ws1))\n",
    "print(degeneracy(ws2))\n",
    "print(degeneracy(ws3))\n",
    "print(degeneracy(ws4))\n",
    "\n",
    "print(\"degree associativity\")\n",
    "print(nx.degree_pearson_correlation_coefficient(ws1))\n",
    "print(nx.degree_pearson_correlation_coefficient(ws2))\n",
    "print(nx.degree_pearson_correlation_coefficient(ws3))\n",
    "print(nx.degree_pearson_correlation_coefficient(ws4))"
   ]
  }
 ],
 "metadata": {
  "kernelspec": {
   "display_name": "Python 2",
   "language": "python",
   "name": "python2"
  },
  "language_info": {
   "codemirror_mode": {
    "name": "ipython",
    "version": 2
   },
   "file_extension": ".py",
   "mimetype": "text/x-python",
   "name": "python",
   "nbconvert_exporter": "python",
   "pygments_lexer": "ipython2",
   "version": "2.7.6"
  }
 },
 "nbformat": 4,
 "nbformat_minor": 1
}
